{
  "nbformat": 4,
  "nbformat_minor": 0,
  "metadata": {
    "colab": {
      "provenance": []
    },
    "kernelspec": {
      "name": "python3",
      "display_name": "Python 3"
    },
    "language_info": {
      "name": "python"
    }
  },
  "cells": [
    {
      "cell_type": "markdown",
      "source": [
        "### Debido a las limitaciones de espacio de Github, comparto la siguiente carpeta de drive, con permisos habilitados: \n",
        "https://drive.google.com/drive/folders/1svLjxNtmS4rqJEqx99QXg1BNaJaKNh2L?usp=share_link"
      ],
      "metadata": {
        "id": "CIrEtmgHwwRc"
      }
    },
    {
      "cell_type": "code",
      "source": [],
      "metadata": {
        "id": "QnghT5gzw5cZ"
      },
      "execution_count": null,
      "outputs": []
    }
  ]
}
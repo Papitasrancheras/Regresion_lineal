{
  "nbformat": 4,
  "nbformat_minor": 0,
  "metadata": {
    "colab": {
      "provenance": []
    },
    "kernelspec": {
      "name": "python3",
      "display_name": "Python 3"
    },
    "language_info": {
      "name": "python"
    }
  },
  "cells": [
    {
      "cell_type": "markdown",
      "source": [
        "#Crear el modelo matemático que describa de mejor manera el número de reseñas para cada tipo de alojamiento elegido, utilizando la variable con mayor correlación."
      ],
      "metadata": {
        "id": "Efwqv_56D8jg"
      }
    },
    {
      "cell_type": "code",
      "execution_count": 4,
      "metadata": {
        "id": "qe1cyM0L611B"
      },
      "outputs": [],
      "source": [
        "# Librerías a utilizar \n",
        "import pandas as pd\n",
        "import numpy as np\n",
        "import matplotlib.pyplot as plt\n",
        "import seaborn as sns"
      ]
    },
    {
      "cell_type": "code",
      "source": [
        "# Carga de archivos \n",
        "mexico = pd.read_csv(\"mexico_clean.csv\")\n",
        "california = pd.read_csv(\"California_clean.csv\")"
      ],
      "metadata": {
        "id": "AQOsLZfQ7Cfx"
      },
      "execution_count": 5,
      "outputs": []
    },
    {
      "cell_type": "markdown",
      "source": [
        "# México"
      ],
      "metadata": {
        "id": "Oxb6g1J5EALb"
      }
    },
    {
      "cell_type": "markdown",
      "source": [
        "## Mejor modelo: Entire home/apt"
      ],
      "metadata": {
        "id": "8So-yEUEEQGV"
      }
    },
    {
      "cell_type": "code",
      "source": [
        "# Crear subconjuntos por el tipo de habitación  \n",
        "mexico_rentire =mexico[mexico[\"room_type\"] == \"Entire home/apt\"]"
      ],
      "metadata": {
        "id": "-_OEQhPAEPhJ"
      },
      "execution_count": 18,
      "outputs": []
    },
    {
      "cell_type": "code",
      "source": [
        "#Encontramos todas las correlaciones entre las variables \n",
        "Corr_Factors= mexico_rentire.corr()"
      ],
      "metadata": {
        "id": "uBJjDAZ98QzY",
        "colab": {
          "base_uri": "https://localhost:8080/"
        },
        "outputId": "922474e7-e302-456e-8374-f6bfc341a7e1"
      },
      "execution_count": 20,
      "outputs": [
        {
          "output_type": "stream",
          "name": "stderr",
          "text": [
            "<ipython-input-20-2a25564de125>:2: FutureWarning: The default value of numeric_only in DataFrame.corr is deprecated. In a future version, it will default to False. Select only valid columns or specify the value of numeric_only to silence this warning.\n",
            "  Corr_Factors= mexico_rentire.corr()\n"
          ]
        }
      ]
    },
    {
      "cell_type": "code",
      "source": [
        "Corr_Factors1 = Corr_Factors[\"number_of_reviews\"]\n",
        "Corr_Factors1= abs(Corr_Factors1)\n",
        "Corr_Factors1.sort_values(ascending=False)"
      ],
      "metadata": {
        "id": "11DdzpVZAlpD"
      },
      "execution_count": null,
      "outputs": []
    },
    {
      "cell_type": "markdown",
      "source": [
        "### Selección mejor modelo "
      ],
      "metadata": {
        "id": "bgIjpCXAEkYf"
      }
    },
    {
      "cell_type": "code",
      "source": [
        "#Declaramos las variables dependientes e independientes para la regresión lineal\n",
        "y_var = mexico_rentire[[\"number_of_reviews\"]]\n",
        "x_var = mexico_rentire[\"review_scores_checkin\"]"
      ],
      "metadata": {
        "id": "jRH09KfxFEBU"
      },
      "execution_count": 22,
      "outputs": []
    },
    {
      "cell_type": "code",
      "source": [
        "# Creación del modelo:\n",
        "# Convertimos x_var en una matriz de dos dimensiones\n",
        "x_var = x_var.values.reshape(-1, 1)\n",
        "#Se define model como la función de regresión lineal\n",
        "from sklearn.linear_model import LinearRegression\n",
        "model= LinearRegression()\n",
        "#Ajustamos el modelo con las variables antes declaradas\n",
        "model.fit(X=x_var, y=y_var)\n",
        "#Verificamos los coeficientes obtenidos para el modelo ajustado\n",
        "model.__dict__"
      ],
      "metadata": {
        "colab": {
          "base_uri": "https://localhost:8080/"
        },
        "id": "kIIlAS9AFSbZ",
        "outputId": "e6910d38-b188-4719-89ae-a5bfc02fb754"
      },
      "execution_count": 23,
      "outputs": [
        {
          "output_type": "execute_result",
          "data": {
            "text/plain": [
              "{'fit_intercept': True,\n",
              " 'copy_X': True,\n",
              " 'n_jobs': None,\n",
              " 'positive': False,\n",
              " 'n_features_in_': 1,\n",
              " 'coef_': array([[-71.30685155]]),\n",
              " 'rank_': 1,\n",
              " 'singular_': array([11.48865159]),\n",
              " 'intercept_': array([373.3581234])}"
            ]
          },
          "metadata": {},
          "execution_count": 23
        }
      ]
    },
    {
      "cell_type": "markdown",
      "source": [
        "#### **Ecuación del modelo: y = -71.3065x + 373.35**"
      ],
      "metadata": {
        "id": "5rz912TvFVp1"
      }
    },
    {
      "cell_type": "code",
      "source": [
        "#Corroboramos cual es el coeficiente de Determinación de nuestro modelo\n",
        "coef_Deter=model.score(X=x_var, y=y_var)\n",
        "coef_Deter"
      ],
      "metadata": {
        "colab": {
          "base_uri": "https://localhost:8080/"
        },
        "id": "n0Eu1tX1FbS-",
        "outputId": "91b60555-004c-4b29-8eab-3d364efc8ae3"
      },
      "execution_count": 24,
      "outputs": [
        {
          "output_type": "execute_result",
          "data": {
            "text/plain": [
              "0.07004541807899367"
            ]
          },
          "metadata": {},
          "execution_count": 24
        }
      ]
    },
    {
      "cell_type": "code",
      "source": [
        "#Corroboramos cual es el coeficiente de Correlación de nuestro modelo\n",
        "coef_Correl=np.sqrt(coef_Deter)\n",
        "coef_Correl"
      ],
      "metadata": {
        "colab": {
          "base_uri": "https://localhost:8080/"
        },
        "id": "idOm_vGuFhHm",
        "outputId": "cf5b5c3d-b184-487a-ee0e-01558de60f79"
      },
      "execution_count": 25,
      "outputs": [
        {
          "output_type": "execute_result",
          "data": {
            "text/plain": [
              "0.2646609492898294"
            ]
          },
          "metadata": {},
          "execution_count": 25
        }
      ]
    },
    {
      "cell_type": "markdown",
      "source": [],
      "metadata": {
        "id": "5cAtfzNMF_fw"
      }
    },
    {
      "cell_type": "markdown",
      "source": [
        "## Mejor modelo: Private room  "
      ],
      "metadata": {
        "id": "tbnrFmd4PcC7"
      }
    },
    {
      "cell_type": "code",
      "source": [
        "# Crear subconjuntos por el tipo de habitación  \n",
        "mexico_rpriv =mexico[mexico[\"room_type\"] == \"Private room\"]\n",
        "# Comprobamos el filtrado exitoso \n",
        "mexico_rpriv[\"room_type\"].value_counts()"
      ],
      "metadata": {
        "colab": {
          "base_uri": "https://localhost:8080/"
        },
        "id": "-BviTIdMvyAX",
        "outputId": "d68492da-85b4-4437-c8a4-ea81e7532983"
      },
      "execution_count": 27,
      "outputs": [
        {
          "output_type": "execute_result",
          "data": {
            "text/plain": [
              "Private room    8202\n",
              "Name: room_type, dtype: int64"
            ]
          },
          "metadata": {},
          "execution_count": 27
        }
      ]
    },
    {
      "cell_type": "code",
      "source": [
        "#Encontramos todas las correlaciones entre las variables \n",
        "Corr_Factors= mexico_rpriv.corr()"
      ],
      "metadata": {
        "colab": {
          "base_uri": "https://localhost:8080/"
        },
        "id": "UbtBP2O0GMYa",
        "outputId": "a9acd5fe-475d-4489-c202-21416f9d3daa"
      },
      "execution_count": 29,
      "outputs": [
        {
          "output_type": "stream",
          "name": "stderr",
          "text": [
            "<ipython-input-29-27c8fa238b9d>:2: FutureWarning: The default value of numeric_only in DataFrame.corr is deprecated. In a future version, it will default to False. Select only valid columns or specify the value of numeric_only to silence this warning.\n",
            "  Corr_Factors= mexico_rpriv.corr()\n"
          ]
        }
      ]
    },
    {
      "cell_type": "code",
      "source": [
        "Corr_Factors1 = Corr_Factors[\"number_of_reviews\"]\n",
        "Corr_Factors1= abs(Corr_Factors1)\n",
        "Corr_Factors1.sort_values(ascending=False)"
      ],
      "metadata": {
        "colab": {
          "base_uri": "https://localhost:8080/"
        },
        "id": "jKkOWolQGU6R",
        "outputId": "55b4c1e8-957b-4324-c370-ce5ff8f8f8df"
      },
      "execution_count": 30,
      "outputs": [
        {
          "output_type": "execute_result",
          "data": {
            "text/plain": [
              "number_of_reviews                               1.000000\n",
              "number_of_reviews_ltm                           0.538937\n",
              "review_scores_checkin                           0.338176\n",
              "review_scores_communication                     0.335161\n",
              "reviews_per_month                               0.327945\n",
              "number_of_reviews_l30d                          0.323919\n",
              "review_scores_rating                            0.293094\n",
              "review_scores_cleanliness                       0.291841\n",
              "review_scores_accuracy                          0.277382\n",
              "Unnamed: 0                                      0.274053\n",
              "review_scores_location                          0.272155\n",
              "review_scores_value                             0.271322\n",
              "id                                              0.270211\n",
              "maximum_nights_avg_ntm                          0.160888\n",
              "maximum_maximum_nights                          0.160361\n",
              "minimum_maximum_nights                          0.159493\n",
              "host_id                                         0.135516\n",
              "availability_30                                 0.123135\n",
              "host_response_rate                              0.101097\n",
              "price                                           0.090583\n",
              "availability_60                                 0.088205\n",
              "bedrooms                                        0.077299\n",
              "host_total_listings_count                       0.071721\n",
              "availability_90                                 0.069946\n",
              "maximum_nights                                  0.068388\n",
              "availability_365                                0.068303\n",
              "latitude                                        0.063309\n",
              "calculated_host_listings_count                  0.060902\n",
              "host_listings_count                             0.060411\n",
              "host_acceptance_rate                            0.057813\n",
              "maximum_minimum_nights                          0.054475\n",
              "minimum_nights_avg_ntm                          0.045672\n",
              "calculated_host_listings_count_private_rooms    0.034130\n",
              "calculated_host_listings_count_entire_homes     0.031699\n",
              "bathrooms_text                                  0.030441\n",
              "accommodates                                    0.030046\n",
              "minimum_nights                                  0.029837\n",
              "beds                                            0.023512\n",
              "minimum_minimum_nights                          0.022493\n",
              "longitude                                       0.006438\n",
              "scrape_id                                            NaN\n",
              "calculated_host_listings_count_shared_rooms          NaN\n",
              "Name: number_of_reviews, dtype: float64"
            ]
          },
          "metadata": {},
          "execution_count": 30
        }
      ]
    },
    {
      "cell_type": "markdown",
      "source": [
        "### Selección mejor modelo "
      ],
      "metadata": {
        "id": "GMgWu7yOGeH6"
      }
    },
    {
      "cell_type": "code",
      "source": [
        "#Declaramos las variables dependientes e independientes para la regresión lineal\n",
        "y_var = mexico_rpriv[[\"number_of_reviews\"]]\n",
        "x_var = mexico_rpriv[\"review_scores_checkin\"]"
      ],
      "metadata": {
        "id": "SJONxHTbwMM6"
      },
      "execution_count": 31,
      "outputs": []
    },
    {
      "cell_type": "code",
      "source": [
        "# Creación del modelo:\n",
        "# Convertimos x_var en una matriz de dos dimensiones\n",
        "x_var = x_var.values.reshape(-1, 1)\n",
        "#Se define model como la función de regresión lineal\n",
        "from sklearn.linear_model import LinearRegression\n",
        "model= LinearRegression()\n",
        "#Ajustamos el modelo con las variables antes declaradas\n",
        "model.fit(X=x_var, y=y_var)\n",
        "#Verificamos los coeficientes obtenidos para el modelo ajustado\n",
        "model.__dict__"
      ],
      "metadata": {
        "colab": {
          "base_uri": "https://localhost:8080/"
        },
        "id": "NaY7LjDEwkB7",
        "outputId": "7779f29c-d93c-4020-ba46-e615eae7bf0e"
      },
      "execution_count": 32,
      "outputs": [
        {
          "output_type": "execute_result",
          "data": {
            "text/plain": [
              "{'fit_intercept': True,\n",
              " 'copy_X': True,\n",
              " 'n_jobs': None,\n",
              " 'positive': False,\n",
              " 'n_features_in_': 1,\n",
              " 'coef_': array([[-82.53172918]]),\n",
              " 'rank_': 1,\n",
              " 'singular_': array([7.85637066]),\n",
              " 'intercept_': array([422.88674999])}"
            ]
          },
          "metadata": {},
          "execution_count": 32
        }
      ]
    },
    {
      "cell_type": "markdown",
      "source": [
        "#### **Ecuación del modelo: y = -82.531x + 422.886**"
      ],
      "metadata": {
        "id": "qO0opsjfwpoz"
      }
    },
    {
      "cell_type": "markdown",
      "source": [
        "#### Evaluación del modelo"
      ],
      "metadata": {
        "id": "8CULfx9lw7R5"
      }
    },
    {
      "cell_type": "code",
      "source": [
        "#Corroboramos cual es el coeficiente de Determinación de nuestro modelo\n",
        "coef_Deter=model.score(X=x_var, y=y_var)\n",
        "coef_Deter"
      ],
      "metadata": {
        "colab": {
          "base_uri": "https://localhost:8080/"
        },
        "id": "wlkMaJqsw2hj",
        "outputId": "a8e92596-3f76-4024-b5a6-e0f43ec95a75"
      },
      "execution_count": 33,
      "outputs": [
        {
          "output_type": "execute_result",
          "data": {
            "text/plain": [
              "0.1143628964362442"
            ]
          },
          "metadata": {},
          "execution_count": 33
        }
      ]
    },
    {
      "cell_type": "code",
      "source": [
        "#Corroboramos cual es el coeficiente de Correlación de nuestro modelo\n",
        "coef_Correl=np.sqrt(coef_Deter)\n",
        "coef_Correl"
      ],
      "metadata": {
        "colab": {
          "base_uri": "https://localhost:8080/"
        },
        "id": "6eU3x1t5xAZI",
        "outputId": "2fa1d79d-1ff2-4686-bc90-a09bb1b7d371"
      },
      "execution_count": 34,
      "outputs": [
        {
          "output_type": "execute_result",
          "data": {
            "text/plain": [
              "0.33817583656471406"
            ]
          },
          "metadata": {},
          "execution_count": 34
        }
      ]
    },
    {
      "cell_type": "markdown",
      "source": [],
      "metadata": {
        "id": "xudTqAu3G9E5"
      }
    },
    {
      "cell_type": "markdown",
      "source": [
        "# California"
      ],
      "metadata": {
        "id": "cYrkzSsMG9ai"
      }
    },
    {
      "cell_type": "markdown",
      "source": [
        "## Mejor modelo: Entire home/apt"
      ],
      "metadata": {
        "id": "DZTQpl7LG9aj"
      }
    },
    {
      "cell_type": "code",
      "source": [
        "# Crear subconjuntos por el tipo de habitación  \n",
        "cal_rentire =california[california[\"room_type\"] == \"Entire home/apt\"]"
      ],
      "metadata": {
        "id": "YYBxQsFOG9aj"
      },
      "execution_count": 35,
      "outputs": []
    },
    {
      "cell_type": "code",
      "source": [
        "#Encontramos todas las correlaciones entre las variables \n",
        "Corr_Factors= cal_rentire.corr()"
      ],
      "metadata": {
        "colab": {
          "base_uri": "https://localhost:8080/"
        },
        "outputId": "c6e6a3a9-bdbb-4584-ebb8-65c5073ed00c",
        "id": "xvqoRjubG9aj"
      },
      "execution_count": 36,
      "outputs": [
        {
          "output_type": "stream",
          "name": "stderr",
          "text": [
            "<ipython-input-36-9b2660c8abc5>:2: FutureWarning: The default value of numeric_only in DataFrame.corr is deprecated. In a future version, it will default to False. Select only valid columns or specify the value of numeric_only to silence this warning.\n",
            "  Corr_Factors= cal_rentire.corr()\n"
          ]
        }
      ]
    },
    {
      "cell_type": "code",
      "source": [
        "Corr_Factors1 = Corr_Factors[\"number_of_reviews\"]\n",
        "Corr_Factors1= abs(Corr_Factors1)\n",
        "Corr_Factors1.sort_values(ascending=False)"
      ],
      "metadata": {
        "colab": {
          "base_uri": "https://localhost:8080/"
        },
        "id": "azZtIaVlG9ak",
        "outputId": "d1afbda4-e6fb-470f-e318-f91dc743f7b5"
      },
      "execution_count": 37,
      "outputs": [
        {
          "output_type": "execute_result",
          "data": {
            "text/plain": [
              "number_of_reviews                               1.000000\n",
              "reviews_per_month                               0.332564\n",
              "Unnamed: 0                                      0.324298\n",
              "review_scores_communication                     0.307391\n",
              "number_of_reviews_ltm                           0.302990\n",
              "review_scores_checkin                           0.296698\n",
              "review_scores_value                             0.264877\n",
              "review_scores_accuracy                          0.261184\n",
              "review_scores_location                          0.261140\n",
              "review_scores_rating                            0.254917\n",
              "ï»¿id                                           0.224668\n",
              "minimum_nights                                  0.216500\n",
              "review_scores_cleanliness                       0.210637\n",
              "minimum_minimum_nights                          0.205845\n",
              "maximum_minimum_nights                          0.182713\n",
              "minimum_nights_avg_ntm                          0.179054\n",
              "latitude                                        0.149671\n",
              "host_listings_count                             0.131130\n",
              "number_of_reviews_l30d                          0.131063\n",
              "calculated_host_listings_count                  0.118949\n",
              "host_total_listings_count                       0.118195\n",
              "longitude                                       0.111673\n",
              "availability_365                                0.090554\n",
              "host_response_rate                              0.080273\n",
              "accommodates                                    0.056566\n",
              "bedrooms                                        0.050235\n",
              "price                                           0.049601\n",
              "host_id                                         0.045728\n",
              "maximum_nights                                  0.044710\n",
              "availability_30                                 0.037189\n",
              "host_acceptance_rate                            0.036172\n",
              "availability_60                                 0.034784\n",
              "availability_90                                 0.030400\n",
              "beds                                            0.027986\n",
              "maximum_maximum_nights                          0.022523\n",
              "maximum_nights_avg_ntm                          0.020714\n",
              "minimum_maximum_nights                          0.015513\n",
              "calculated_host_listings_count_private_rooms    0.014450\n",
              "calculated_host_listings_count_entire_homes     0.003047\n",
              "scrape_id                                            NaN\n",
              "bathrooms_text                                       NaN\n",
              "calculated_host_listings_count_shared_rooms          NaN\n",
              "Name: number_of_reviews, dtype: float64"
            ]
          },
          "metadata": {},
          "execution_count": 37
        }
      ]
    },
    {
      "cell_type": "markdown",
      "source": [
        "### Selección mejor modelo "
      ],
      "metadata": {
        "id": "TiDzd_XUG9ak"
      }
    },
    {
      "cell_type": "code",
      "source": [
        "#Declaramos las variables dependientes e independientes para la regresión lineal\n",
        "y_var = cal_rentire[[\"number_of_reviews\"]]\n",
        "x_var = cal_rentire[\"review_scores_communication\"]"
      ],
      "metadata": {
        "id": "_qg5c4E2G9ak"
      },
      "execution_count": 38,
      "outputs": []
    },
    {
      "cell_type": "code",
      "source": [
        "# Creación del modelo:\n",
        "# Convertimos x_var en una matriz de dos dimensiones\n",
        "x_var = x_var.values.reshape(-1, 1)\n",
        "#Se define model como la función de regresión lineal\n",
        "from sklearn.linear_model import LinearRegression\n",
        "model= LinearRegression()\n",
        "#Ajustamos el modelo con las variables antes declaradas\n",
        "model.fit(X=x_var, y=y_var)\n",
        "#Verificamos los coeficientes obtenidos para el modelo ajustado\n",
        "model.__dict__"
      ],
      "metadata": {
        "colab": {
          "base_uri": "https://localhost:8080/"
        },
        "outputId": "eb7a0eaa-f4d6-45a7-dc42-84407b276985",
        "id": "b5A2FFVhG9ak"
      },
      "execution_count": 39,
      "outputs": [
        {
          "output_type": "execute_result",
          "data": {
            "text/plain": [
              "{'fit_intercept': True,\n",
              " 'copy_X': True,\n",
              " 'n_jobs': None,\n",
              " 'positive': False,\n",
              " 'n_features_in_': 1,\n",
              " 'coef_': array([[-165.05455598]]),\n",
              " 'rank_': 1,\n",
              " 'singular_': array([3.13059777]),\n",
              " 'intercept_': array([837.54547941])}"
            ]
          },
          "metadata": {},
          "execution_count": 39
        }
      ]
    },
    {
      "cell_type": "markdown",
      "source": [
        "#### **Ecuación del modelo: y = -165.0545x + 837.5454**"
      ],
      "metadata": {
        "id": "ouxFr00TG9al"
      }
    },
    {
      "cell_type": "code",
      "source": [
        "#Corroboramos cual es el coeficiente de Determinación de nuestro modelo\n",
        "coef_Deter=model.score(X=x_var, y=y_var)\n",
        "coef_Deter"
      ],
      "metadata": {
        "colab": {
          "base_uri": "https://localhost:8080/"
        },
        "outputId": "192530bd-ff94-4f43-cc6f-9d14f74722c3",
        "id": "pMYv56uSG9al"
      },
      "execution_count": 40,
      "outputs": [
        {
          "output_type": "execute_result",
          "data": {
            "text/plain": [
              "0.09448895665810997"
            ]
          },
          "metadata": {},
          "execution_count": 40
        }
      ]
    },
    {
      "cell_type": "code",
      "source": [
        "#Corroboramos cual es el coeficiente de Correlación de nuestro modelo\n",
        "coef_Correl=np.sqrt(coef_Deter)\n",
        "coef_Correl"
      ],
      "metadata": {
        "colab": {
          "base_uri": "https://localhost:8080/"
        },
        "outputId": "6d806b64-7cfa-4ee8-9173-8aaae17eacab",
        "id": "v2mmQMhCG9al"
      },
      "execution_count": 41,
      "outputs": [
        {
          "output_type": "execute_result",
          "data": {
            "text/plain": [
              "0.3073905604570673"
            ]
          },
          "metadata": {},
          "execution_count": 41
        }
      ]
    },
    {
      "cell_type": "markdown",
      "source": [
        "## Mejor modelo: Private room  "
      ],
      "metadata": {
        "id": "Ek6gKL8mG9al"
      }
    },
    {
      "cell_type": "code",
      "source": [
        "# Crear subconjuntos por el tipo de habitación  \n",
        "cal_rpriv =california[california[\"room_type\"] == \"Private room\"]\n",
        "# Comprobamos el filtrado exitoso \n",
        "cal_rpriv[\"room_type\"].value_counts()"
      ],
      "metadata": {
        "colab": {
          "base_uri": "https://localhost:8080/"
        },
        "outputId": "1b41049d-a5a1-45da-cf40-30b32f1ca55e",
        "id": "U8dhTZbGG9am"
      },
      "execution_count": 42,
      "outputs": [
        {
          "output_type": "execute_result",
          "data": {
            "text/plain": [
              "Private room    2359\n",
              "Name: room_type, dtype: int64"
            ]
          },
          "metadata": {},
          "execution_count": 42
        }
      ]
    },
    {
      "cell_type": "code",
      "source": [
        "#Encontramos todas las correlaciones entre las variables \n",
        "Corr_Factors= cal_rpriv.corr()"
      ],
      "metadata": {
        "colab": {
          "base_uri": "https://localhost:8080/"
        },
        "outputId": "9f5130ed-ddb6-40f9-bf0e-d1300314603a",
        "id": "rSFHYxZOG9am"
      },
      "execution_count": 44,
      "outputs": [
        {
          "output_type": "stream",
          "name": "stderr",
          "text": [
            "<ipython-input-44-13ed5544a1d5>:2: FutureWarning: The default value of numeric_only in DataFrame.corr is deprecated. In a future version, it will default to False. Select only valid columns or specify the value of numeric_only to silence this warning.\n",
            "  Corr_Factors= cal_rpriv.corr()\n"
          ]
        }
      ]
    },
    {
      "cell_type": "code",
      "source": [
        "Corr_Factors1 = Corr_Factors[\"number_of_reviews\"]\n",
        "Corr_Factors1= abs(Corr_Factors1)\n",
        "Corr_Factors1.sort_values(ascending=False)"
      ],
      "metadata": {
        "colab": {
          "base_uri": "https://localhost:8080/"
        },
        "outputId": "447df55e-d450-43b1-c9f1-a9be8032bc6d",
        "id": "xHWxO_8cG9am"
      },
      "execution_count": 45,
      "outputs": [
        {
          "output_type": "execute_result",
          "data": {
            "text/plain": [
              "number_of_reviews                               1.000000\n",
              "reviews_per_month                               0.310485\n",
              "review_scores_accuracy                          0.286475\n",
              "review_scores_value                             0.278163\n",
              "review_scores_location                          0.274767\n",
              "review_scores_rating                            0.267137\n",
              "review_scores_checkin                           0.266000\n",
              "review_scores_cleanliness                       0.264556\n",
              "review_scores_communication                     0.255518\n",
              "Unnamed: 0                                      0.223294\n",
              "number_of_reviews_ltm                           0.219295\n",
              "minimum_minimum_nights                          0.183273\n",
              "minimum_nights                                  0.181213\n",
              "maximum_minimum_nights                          0.179968\n",
              "minimum_nights_avg_ntm                          0.176354\n",
              "number_of_reviews_l30d                          0.159585\n",
              "calculated_host_listings_count_private_rooms    0.114928\n",
              "host_response_rate                              0.110560\n",
              "host_listings_count                             0.107806\n",
              "availability_365                                0.102550\n",
              "ï»¿id                                           0.088425\n",
              "calculated_host_listings_count                  0.085727\n",
              "latitude                                        0.078356\n",
              "calculated_host_listings_count_entire_homes     0.076391\n",
              "host_acceptance_rate                            0.076292\n",
              "host_total_listings_count                       0.074476\n",
              "minimum_maximum_nights                          0.072946\n",
              "host_id                                         0.065910\n",
              "maximum_nights                                  0.061315\n",
              "price                                           0.040188\n",
              "maximum_nights_avg_ntm                          0.037699\n",
              "maximum_maximum_nights                          0.035388\n",
              "bedrooms                                        0.020016\n",
              "accommodates                                    0.005537\n",
              "availability_90                                 0.005447\n",
              "longitude                                       0.004734\n",
              "beds                                            0.003485\n",
              "availability_30                                 0.003142\n",
              "availability_60                                 0.001731\n",
              "scrape_id                                            NaN\n",
              "bathrooms_text                                       NaN\n",
              "calculated_host_listings_count_shared_rooms          NaN\n",
              "Name: number_of_reviews, dtype: float64"
            ]
          },
          "metadata": {},
          "execution_count": 45
        }
      ]
    },
    {
      "cell_type": "markdown",
      "source": [
        "### Selección mejor modelo "
      ],
      "metadata": {
        "id": "KdtgQcfQG9an"
      }
    },
    {
      "cell_type": "code",
      "source": [
        "#Declaramos las variables dependientes e independientes para la regresión lineal\n",
        "y_var = mexico_rpriv[[\"number_of_reviews\"]]\n",
        "x_var = mexico_rpriv[\"review_scores_accuracy\"]"
      ],
      "metadata": {
        "id": "GxXakAJOG9an"
      },
      "execution_count": 47,
      "outputs": []
    },
    {
      "cell_type": "code",
      "source": [
        "# Creación del modelo:\n",
        "# Convertimos x_var en una matriz de dos dimensiones\n",
        "x_var = x_var.values.reshape(-1, 1)\n",
        "#Se define model como la función de regresión lineal\n",
        "from sklearn.linear_model import LinearRegression\n",
        "model= LinearRegression()\n",
        "#Ajustamos el modelo con las variables antes declaradas\n",
        "model.fit(X=x_var, y=y_var)\n",
        "#Verificamos los coeficientes obtenidos para el modelo ajustado\n",
        "model.__dict__"
      ],
      "metadata": {
        "colab": {
          "base_uri": "https://localhost:8080/"
        },
        "outputId": "c5f2e4d9-c8cc-44e7-a5fd-3ef557a8f551",
        "id": "EPgd7-4_G9an"
      },
      "execution_count": 48,
      "outputs": [
        {
          "output_type": "execute_result",
          "data": {
            "text/plain": [
              "{'fit_intercept': True,\n",
              " 'copy_X': True,\n",
              " 'n_jobs': None,\n",
              " 'positive': False,\n",
              " 'n_features_in_': 1,\n",
              " 'coef_': array([[-46.31859359]]),\n",
              " 'rank_': 1,\n",
              " 'singular_': array([11.48216266]),\n",
              " 'intercept_': array([241.70938664])}"
            ]
          },
          "metadata": {},
          "execution_count": 48
        }
      ]
    },
    {
      "cell_type": "markdown",
      "source": [
        "#### **Ecuación del modelo: y = -46.3185x + 241.7093**"
      ],
      "metadata": {
        "id": "k-jeU5qwG9an"
      }
    },
    {
      "cell_type": "markdown",
      "source": [
        "#### Evaluación del modelo"
      ],
      "metadata": {
        "id": "mJWODx_oG9an"
      }
    },
    {
      "cell_type": "code",
      "source": [
        "#Corroboramos cual es el coeficiente de Determinación de nuestro modelo\n",
        "coef_Deter=model.score(X=x_var, y=y_var)\n",
        "coef_Deter"
      ],
      "metadata": {
        "colab": {
          "base_uri": "https://localhost:8080/"
        },
        "outputId": "643a6f8a-d193-40d4-df6b-f41fdbc1e251",
        "id": "lU8Jbuq0G9ao"
      },
      "execution_count": 49,
      "outputs": [
        {
          "output_type": "execute_result",
          "data": {
            "text/plain": [
              "0.07694093243069844"
            ]
          },
          "metadata": {},
          "execution_count": 49
        }
      ]
    },
    {
      "cell_type": "code",
      "source": [
        "#Corroboramos cual es el coeficiente de Correlación de nuestro modelo\n",
        "coef_Correl=np.sqrt(coef_Deter)\n",
        "coef_Correl"
      ],
      "metadata": {
        "colab": {
          "base_uri": "https://localhost:8080/"
        },
        "outputId": "05491871-9e8f-486b-9326-6034da21914d",
        "id": "4YUTDIAYG9ao"
      },
      "execution_count": 50,
      "outputs": [
        {
          "output_type": "execute_result",
          "data": {
            "text/plain": [
              "0.2773822857190027"
            ]
          },
          "metadata": {},
          "execution_count": 50
        }
      ]
    }
  ]
}